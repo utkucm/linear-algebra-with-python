{
 "cells": [
  {
   "cell_type": "code",
   "execution_count": 14,
   "id": "2e972b22",
   "metadata": {},
   "outputs": [],
   "source": [
    "import numpy as np"
   ]
  },
  {
   "cell_type": "markdown",
   "id": "65139887",
   "metadata": {},
   "source": [
    "# Dot Product\n",
    "$$\\alpha\\:=\\:\\vec{a}\\:\\cdot\\:\\vec{b}\\:=\\:<\\vec{p},\\:\\vec{q}>\\:=\\:\\vec{a}^T\\:\\vec{b}\\:=\\:\\Sigma_{i=1}^{n}\\:\\vec{a_i}\\vec{b_i}$$ "
   ]
  },
  {
   "cell_type": "markdown",
   "id": "c1563e7f",
   "metadata": {},
   "source": [
    "$$\n",
    "\\vec{a} = \\begin{bmatrix}\n",
    "  1 \\\\ 2 \\\\ 3 \\\\ 4 \\\\ 5\n",
    "\\end{bmatrix}\n",
    "\\:\n",
    "\\vec{b} = \\begin{bmatrix}\n",
    "  1 \\\\ 2 \\\\ 3\n",
    "\\end{bmatrix}\n",
    "\\:\n",
    "\\vec{a}^T\\cdot\\vec{b} = \n",
    "\\begin{bmatrix} 1 & 2 & 3 & 4 & 5 \\end{bmatrix}\n",
    "\\begin{bmatrix} 1 \\\\ 2 \\\\ 3 \\end{bmatrix} = \n",
    "\\begin{bmatrix} 1\\times1 \\\\ 2\\times2 \\\\ 3\\times3 \\\\ 4\\times? \\\\ 5\\times? \\end{bmatrix}\n",
    "\\lvert \\vec{a} \\rvert == \\lvert \\vec{b} \\rvert;\n",
    "$$"
   ]
  },
  {
   "cell_type": "code",
   "execution_count": 4,
   "id": "9b8d5c14",
   "metadata": {},
   "outputs": [],
   "source": [
    "v1 = np.array([1, 2, 3, 4, 5, 6])\n",
    "v2 = np.array([0, -4, 2, -3, 6, 5])"
   ]
  },
  {
   "cell_type": "markdown",
   "id": "90f8ec40",
   "metadata": {},
   "source": [
    "###### Method 1"
   ]
  },
  {
   "cell_type": "code",
   "execution_count": 6,
   "id": "e3dee137",
   "metadata": {},
   "outputs": [
    {
     "data": {
      "text/plain": [
       "46"
      ]
     },
     "execution_count": 6,
     "metadata": {},
     "output_type": "execute_result"
    }
   ],
   "source": [
    "dp1 = sum(np.multiply(v1, v2))\n",
    "dp1"
   ]
  },
  {
   "cell_type": "markdown",
   "id": "e5535b48",
   "metadata": {},
   "source": [
    "###### Method 2"
   ]
  },
  {
   "cell_type": "code",
   "execution_count": 8,
   "id": "24d4e90d",
   "metadata": {},
   "outputs": [
    {
     "data": {
      "text/plain": [
       "46"
      ]
     },
     "execution_count": 8,
     "metadata": {},
     "output_type": "execute_result"
    }
   ],
   "source": [
    "dp2 = np.dot(v1,v2)\n",
    "dp2"
   ]
  },
  {
   "cell_type": "markdown",
   "id": "0e35f791",
   "metadata": {},
   "source": [
    "###### Method 3\n",
    "Same as method 4\n",
    "Calls __matmul__ method in python (Numpy API Reference)"
   ]
  },
  {
   "cell_type": "code",
   "execution_count": 10,
   "id": "f94fa685",
   "metadata": {},
   "outputs": [
    {
     "data": {
      "text/plain": [
       "46"
      ]
     },
     "execution_count": 10,
     "metadata": {},
     "output_type": "execute_result"
    }
   ],
   "source": [
    "dp3 = np.matmul(v1,v2)\n",
    "dp3"
   ]
  },
  {
   "cell_type": "markdown",
   "id": "89c5f543",
   "metadata": {},
   "source": [
    "###### Method 4\n",
    "Same as method 3\n",
    "Calls __matmul__ method in python"
   ]
  },
  {
   "cell_type": "code",
   "execution_count": 11,
   "id": "cba3d40e",
   "metadata": {},
   "outputs": [
    {
     "data": {
      "text/plain": [
       "46"
      ]
     },
     "execution_count": 11,
     "metadata": {},
     "output_type": "execute_result"
    }
   ],
   "source": [
    "dp4 = v1 @ v2\n",
    "dp4"
   ]
  },
  {
   "cell_type": "markdown",
   "id": "b3f6e208",
   "metadata": {},
   "source": [
    "###### Method 5\n",
    "Not preferred"
   ]
  },
  {
   "cell_type": "code",
   "execution_count": 12,
   "id": "97dc7f7f",
   "metadata": {},
   "outputs": [
    {
     "data": {
      "text/plain": [
       "46"
      ]
     },
     "execution_count": 12,
     "metadata": {},
     "output_type": "execute_result"
    }
   ],
   "source": [
    "dp5 = 0\n",
    "for i in range(0, len(v1)):\n",
    "    dp5 = dp5 + v1[i] * v2[i]\n",
    "dp5"
   ]
  },
  {
   "cell_type": "code",
   "execution_count": 13,
   "id": "fefefacb",
   "metadata": {},
   "outputs": [
    {
     "name": "stdout",
     "output_type": "stream",
     "text": [
      "Dot Product 1: 46\n",
      "Dot Product 2: 46\n",
      "Dot Product 3: 46\n",
      "Dot Product 4: 46\n",
      "Dot Product 5: 46\n"
     ]
    }
   ],
   "source": [
    "print(f'Dot Product 1: {dp1}')\n",
    "print(f'Dot Product 2: {dp2}')\n",
    "print(f'Dot Product 3: {dp3}')\n",
    "print(f'Dot Product 4: {dp4}')\n",
    "print(f'Dot Product 5: {dp5}')"
   ]
  }
 ],
 "metadata": {
  "kernelspec": {
   "display_name": "Python 3 (ipykernel)",
   "language": "python",
   "name": "python3"
  },
  "language_info": {
   "codemirror_mode": {
    "name": "ipython",
    "version": 3
   },
   "file_extension": ".py",
   "mimetype": "text/x-python",
   "name": "python",
   "nbconvert_exporter": "python",
   "pygments_lexer": "ipython3",
   "version": "3.9.12"
  }
 },
 "nbformat": 4,
 "nbformat_minor": 5
}
