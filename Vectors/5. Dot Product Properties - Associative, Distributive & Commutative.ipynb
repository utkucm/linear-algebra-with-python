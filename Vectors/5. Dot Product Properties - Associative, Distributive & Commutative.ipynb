{
 "cells": [
  {
   "cell_type": "code",
   "execution_count": 2,
   "id": "8b36d934",
   "metadata": {},
   "outputs": [],
   "source": [
    "import numpy as np"
   ]
  },
  {
   "cell_type": "markdown",
   "id": "5e6033af",
   "metadata": {},
   "source": [
    "# The dot product is distributive"
   ]
  },
  {
   "cell_type": "markdown",
   "id": "e5950b84",
   "metadata": {},
   "source": [
    "$$\n",
    "a\\left(b+c \\right) = ab + bc \\\\\n",
    "a^T\\left(b+c \\right) = a^Tb + b^Tc \\\\\n",
    "\\Sigma_{i=1}^{n}{a_i}{b_i} + \\Sigma_{i=1}^{n}{a_i}{c_i} = \\Sigma_{i=1}^{n}{a_i}\\left({b_i}+{c_i}\\right)\n",
    "$$"
   ]
  },
  {
   "cell_type": "code",
   "execution_count": 3,
   "id": "471c2adc",
   "metadata": {},
   "outputs": [],
   "source": [
    "n = 10\n",
    "a = np.random.randn(n)\n",
    "b = np.random.randn(n)\n",
    "c = np.random.randn(n)"
   ]
  },
  {
   "cell_type": "code",
   "execution_count": 4,
   "id": "965b4405",
   "metadata": {},
   "outputs": [],
   "source": [
    "res1 = np.dot(a, (b+c))\n",
    "res2 = np.dot(a,b) + np.dot(a,c)"
   ]
  },
  {
   "cell_type": "code",
   "execution_count": 5,
   "id": "7294678b",
   "metadata": {},
   "outputs": [
    {
     "name": "stdout",
     "output_type": "stream",
     "text": [
      "Result 1: -0.16073928619704736\n",
      "Result 2: -0.1607392861970478\n"
     ]
    }
   ],
   "source": [
    "print(f'Result 1: {res1}')\n",
    "print(f'Result 2: {res2}')"
   ]
  },
  {
   "cell_type": "markdown",
   "id": "f4cefc5b",
   "metadata": {},
   "source": [
    "# The dot product *not* associative"
   ]
  },
  {
   "cell_type": "markdown",
   "id": "8242eb50",
   "metadata": {},
   "source": [
    "$$\n",
    "a\\left(bc \\right) = \\left(ab \\right)c \\\\\n",
    "a^T\\left(b^Tc \\right) \\neq \\left(a^Tb \\right)^Tc \\\\\n",
    "a, b, c \\neq \\vec{0}\n",
    "$$"
   ]
  },
  {
   "cell_type": "markdown",
   "id": "a3f60d8e",
   "metadata": {},
   "source": [
    "###### Works under specific conditions\n",
    "1. One of the vectors is zeros vector\n",
    "2. a==b==c"
   ]
  },
  {
   "cell_type": "code",
   "execution_count": 6,
   "id": "9c2bb324",
   "metadata": {},
   "outputs": [],
   "source": [
    "n = 10\n",
    "a = np.random.randn(n)\n",
    "b = np.random.randn(n)\n",
    "c = np.random.randn(n)"
   ]
  },
  {
   "cell_type": "code",
   "execution_count": 7,
   "id": "8ac26e42",
   "metadata": {},
   "outputs": [],
   "source": [
    "res1 = np.dot(a, np.dot(b,c))\n",
    "res2 = np.dot(np.dot(a,b), c)"
   ]
  },
  {
   "cell_type": "code",
   "execution_count": 8,
   "id": "9e8e4712",
   "metadata": {},
   "outputs": [
    {
     "name": "stdout",
     "output_type": "stream",
     "text": [
      "Result 1: [-2.32511777  5.68684993 -2.32960436 -0.3692555  -1.51972908 -6.89735339\n",
      " -1.79490543 -1.07198551 -0.90313884 -0.16302345]\n",
      "Result 2: [-0.73534915  0.6249436   2.10131779 -1.5399353  -0.7930055   0.80573633\n",
      " -1.42124845  0.47170794 -4.00120471  3.0174887 ]\n"
     ]
    }
   ],
   "source": [
    "print(f'Result 1: {res1}')\n",
    "print(f'Result 2: {res2}')"
   ]
  },
  {
   "cell_type": "code",
   "execution_count": null,
   "id": "49809df2",
   "metadata": {},
   "outputs": [],
   "source": []
  }
 ],
 "metadata": {
  "kernelspec": {
   "display_name": "Python 3 (ipykernel)",
   "language": "python",
   "name": "python3"
  },
  "language_info": {
   "codemirror_mode": {
    "name": "ipython",
    "version": 3
   },
   "file_extension": ".py",
   "mimetype": "text/x-python",
   "name": "python",
   "nbconvert_exporter": "python",
   "pygments_lexer": "ipython3",
   "version": "3.9.12"
  }
 },
 "nbformat": 4,
 "nbformat_minor": 5
}
