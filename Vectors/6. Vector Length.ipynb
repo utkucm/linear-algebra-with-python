{
 "cells": [
  {
   "cell_type": "code",
   "execution_count": 1,
   "id": "1c3b8871",
   "metadata": {},
   "outputs": [],
   "source": [
    "import numpy as np"
   ]
  },
  {
   "cell_type": "markdown",
   "id": "1f67ec05",
   "metadata": {},
   "source": [
    "# Vector length (a.k.a. magnitude or norm)"
   ]
  },
  {
   "cell_type": "markdown",
   "id": "bbe9ea3f",
   "metadata": {},
   "source": [
    "$$\n",
    "\\Vert v \\Vert = \\sqrt{v^Tv} \\\\\n",
    "\\Vert v \\Vert^2 = v_1^2 + v_2^2 + \\cdots + v_n^2 = \\Sigma_{i=1}^{n}{v_i}^2\n",
    "$$"
   ]
  },
  {
   "cell_type": "code",
   "execution_count": 5,
   "id": "54dff60e",
   "metadata": {},
   "outputs": [
    {
     "data": {
      "text/plain": [
       "array([1, 2, 3, 4, 5, 6])"
      ]
     },
     "execution_count": 5,
     "metadata": {},
     "output_type": "execute_result"
    }
   ],
   "source": [
    "v1 = np.array([1,2,3,4,5,6])\n",
    "v1"
   ]
  },
  {
   "cell_type": "code",
   "execution_count": 6,
   "id": "df37a53a",
   "metadata": {},
   "outputs": [
    {
     "data": {
      "text/plain": [
       "9.539392014169456"
      ]
     },
     "execution_count": 6,
     "metadata": {},
     "output_type": "execute_result"
    }
   ],
   "source": [
    "vl1 = np.sqrt(np.dot(v1,v1))\n",
    "vl1"
   ]
  },
  {
   "cell_type": "code",
   "execution_count": 8,
   "id": "5a6f0108",
   "metadata": {},
   "outputs": [
    {
     "data": {
      "text/plain": [
       "9.539392014169456"
      ]
     },
     "execution_count": 8,
     "metadata": {},
     "output_type": "execute_result"
    }
   ],
   "source": [
    "vl2 = np.linalg.norm(v1)\n",
    "vl2"
   ]
  },
  {
   "cell_type": "code",
   "execution_count": null,
   "id": "f53bba61",
   "metadata": {},
   "outputs": [],
   "source": [
    "print(f'Vect')"
   ]
  }
 ],
 "metadata": {
  "kernelspec": {
   "display_name": "Python 3 (ipykernel)",
   "language": "python",
   "name": "python3"
  },
  "language_info": {
   "codemirror_mode": {
    "name": "ipython",
    "version": 3
   },
   "file_extension": ".py",
   "mimetype": "text/x-python",
   "name": "python",
   "nbconvert_exporter": "python",
   "pygments_lexer": "ipython3",
   "version": "3.9.12"
  }
 },
 "nbformat": 4,
 "nbformat_minor": 5
}
